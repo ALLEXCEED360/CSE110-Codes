{
 "cells": [
  {
   "cell_type": "markdown",
   "metadata": {
    "id": "xDNsncrtU1yM"
   },
   "source": [
    "# CSE110 Lab Assignment 4\n",
    "\n",
    "This Assignment is to help you develop your concept of Lists in Python."
   ]
  },
  {
   "cell_type": "markdown",
   "metadata": {
    "id": "gh4GUDaIU1yO"
   },
   "source": [
    "\n",
    "\n",
    "\n",
    "\n",
    "\n",
    "\n",
    "##Write your name, student ID and CSE110 theory section number below:\n",
    "\n",
    "\n",
    "\n",
    "\n",
    "\n"
   ]
  },
  {
   "cell_type": "code",
   "execution_count": null,
   "metadata": {
    "id": "OAYfzLIqgqyE"
   },
   "outputs": [],
   "source": [
    "#STUDENT NAME:Fardeen Alam\n",
    "#STUDENT ID:21301116\n",
    "#CSE110 THEORY SECTION:05"
   ]
  },
  {
   "cell_type": "markdown",
   "metadata": {
    "id": "KD4EKJf6U1yQ"
   },
   "source": [
    "## Write the code in Python to do the following tasks:\n",
    "\n",
    "**<font color='red'>[MUST MAINTAIN VARIABLE NAMING CONVENTIONS FOR ALL THE TASKS]</font>**"
   ]
  },
  {
   "cell_type": "markdown",
   "metadata": {
    "id": "pbdeIVcyU1yi"
   },
   "source": [
    "### Task 1\n",
    "Write a Python program that reads 10 numbers from the user into a list. After reading each number, print all the numbers that have been entered so far in the list. \n",
    "\n",
    "**Example:**\\\n",
    "After the user enters 3, prints “Numbers in the list: [3]”\\\n",
    "After the user enters 5, prints “Numbers in the list: [3, 5]”\\\n",
    "After the user enters 34, prints “Numbers in the list: [3, 5, 34]”\\\n",
    ".... and so on"
   ]
  },
  {
   "cell_type": "code",
   "execution_count": 1,
   "metadata": {
    "id": "A5df9pmJU1yj"
   },
   "outputs": [
    {
     "name": "stdout",
     "output_type": "stream",
     "text": [
      "Please enter a Number:1\n",
      "Numbers in the list: [1]\"\n",
      "Please enter a Number:2\n",
      "Numbers in the list: [1, 2]\"\n",
      "Please enter a Number:3\n",
      "Numbers in the list: [1, 2, 3]\"\n",
      "Please enter a Number:4\n",
      "Numbers in the list: [1, 2, 3, 4]\"\n",
      "Please enter a Number:5\n",
      "Numbers in the list: [1, 2, 3, 4, 5]\"\n",
      "Please enter a Number:6\n",
      "Numbers in the list: [1, 2, 3, 4, 5, 6]\"\n",
      "Please enter a Number:7\n",
      "Numbers in the list: [1, 2, 3, 4, 5, 6, 7]\"\n",
      "Please enter a Number:8\n",
      "Numbers in the list: [1, 2, 3, 4, 5, 6, 7, 8]\"\n",
      "Please enter a Number:9\n",
      "Numbers in the list: [1, 2, 3, 4, 5, 6, 7, 8, 9]\"\n",
      "Please enter a Number:10\n",
      "Numbers in the list: [1, 2, 3, 4, 5, 6, 7, 8, 9, 10]\"\n"
     ]
    }
   ],
   "source": [
    "number=[]\n",
    "for iteration in range(10):\n",
    "    num=int(input('Please enter a Number:'))\n",
    "    number.append(num)\n",
    "    print('Numbers in the list:',number[0:],end='\"')\n",
    "    print()"
   ]
  },
  {
   "cell_type": "markdown",
   "metadata": {
    "id": "ZrjtT-I_U1zD"
   },
   "source": [
    "### Task 2\n",
    "\n",
    "Write a Python program that takes a list as an input from the user.Then creates a new list excluding the first and last two elements of the given list and prints the new list. If there are not enough elements in the list to do the task, the print \"Not possible\".\n",
    "\n",
    "**Note:** You may use list slicing.\n",
    "\n",
    "===================================================================\n",
    "\n",
    "**Sample Input 1:**<br/>\n",
    "[10, 20, 24, 25, 26, 35, 70]<br/>\n",
    "**Sample Output 1:**<br/>\n",
    "[24, 25, 26]<br/>\n",
    "\n",
    "===================================================================\n",
    "\n",
    "**Sample Input 2:**<br/>\n",
    "[10, 20, 24, 25, 26]<br/>\n",
    "**Sample Output 2:**<br/>\n",
    "[24]<br/>\n",
    "\n",
    "===================================================================\n",
    "\n",
    "**Sample Input 3:**<br/>\n",
    "[10, 20, 24, 25]<br/>\n",
    "**Sample Output 3:**<br/>\n",
    "[]<br/>\n",
    "\n",
    "===================================================================\n",
    "\n",
    "**Sample Input 4:**<br/>\n",
    "[10, 20, 24]<br/>\n",
    "**Sample Output 4:**<br/>\n",
    "Not possible<br/>\n",
    "\n",
    "==================================================================="
   ]
  },
  {
   "cell_type": "code",
   "execution_count": 2,
   "metadata": {
    "id": "3r7Ripj7U1zE"
   },
   "outputs": [
    {
     "name": "stdout",
     "output_type": "stream",
     "text": [
      "Please enter the Number of items:5\n",
      "Please enter a Number:10\n",
      "Please enter a Number:-6\n",
      "Please enter a Number:3\n",
      "Please enter a Number:6\n",
      "Please enter a Number:1\n",
      "[3]\n"
     ]
    }
   ],
   "source": [
    "#to do\n",
    "\n",
    "quantity=int(input('Please enter the Number of items:'))\n",
    "input_list=[]\n",
    "new_list=[]\n",
    "\n",
    "for iteration in range(quantity):\n",
    "    num=int(input('Please enter a Number:'))\n",
    "    input_list.append(num)\n",
    "if len(input_list)<4:\n",
    "    print('Not possible')\n",
    "    new_list=''\n",
    "else:\n",
    "    for values in range(2,len(input_list)-2):\n",
    "        new_list.append(input_list[values])\n",
    "print(new_list)\n",
    "\n"
   ]
  },
  {
   "cell_type": "markdown",
   "metadata": {
    "id": "AWgZaBZCzmaM"
   },
   "source": [
    "### Task 3\n",
    "\n",
    "Write a python program that reads 5 numbers from the user into a list, and then prints them in the reverse order.\n",
    "\n",
    "*Hint: You may create a list to store the input numbers and then use loop to print them in reverse order*\n",
    "\n",
    "===================================================================\n",
    "\n",
    "**Sample Input:**\\\n",
    "5\\\n",
    "-5\\\n",
    "100\\\n",
    "1\\\n",
    "0\n",
    "\n",
    "**Sample Output:**\\\n",
    "0\\\n",
    "1\\\n",
    "100\\\n",
    "-5\\\n",
    "5\n",
    "\n",
    "==================================================================="
   ]
  },
  {
   "cell_type": "code",
   "execution_count": 3,
   "metadata": {
    "id": "ICW-03YOznTp"
   },
   "outputs": [
    {
     "name": "stdout",
     "output_type": "stream",
     "text": [
      "Please enter a Number:1\n",
      "Please enter a Number:2\n",
      "Please enter a Number:3\n",
      "Please enter a Number:4\n",
      "Please enter a Number:5\n",
      "5\n",
      "4\n",
      "3\n",
      "2\n",
      "1\n"
     ]
    }
   ],
   "source": [
    "#to do\n",
    "\n",
    "input_list=[]\n",
    "\n",
    "for iteration in range(5):\n",
    "    num=int(input('Please enter a Number:'))\n",
    "    input_list.append(num)\n",
    "for values in range(len(input_list)-1,-1,-1):\n",
    "    print(input_list[values])\n"
   ]
  },
  {
   "cell_type": "markdown",
   "metadata": {
    "id": "7a_1pYjfU1zI"
   },
   "source": [
    "### Task 4\n",
    "Assume, you have been given two lists. [Your program should work for any two given lists; change the following lists and check whether your program works correctly for the code you have written]\n",
    "\n",
    "list_one = [1, 2, 3, 4, 5, 6, 7, 8, 9]\\\n",
    "list_two = [10, 11, 12, -13, -14, -15, -16]\n",
    "\n",
    "Write a Python program that creates a new list with all the **even elements** of both of the given lists and prints the new list.\n",
    "\n",
    "**Hint:** You may create a third list to store the even elements of the given lists.\n",
    "\n",
    "===================================================================\n",
    "\n",
    "**Output for the above lists:** [2, 4, 6, 8, 10, 12, -14, -16]\n",
    "\n",
    "==================================================================="
   ]
  },
  {
   "cell_type": "code",
   "execution_count": 4,
   "metadata": {
    "id": "vToa7yazU1zI"
   },
   "outputs": [
    {
     "name": "stdout",
     "output_type": "stream",
     "text": [
      "[2, 4, 6, 8, 10, 12, -14, -16]\n"
     ]
    }
   ],
   "source": [
    "#to do\n",
    "\n",
    "list_one = [1, 2, 3, 4, 5, 6, 7, 8, 9]\n",
    "list_two = [10, 11, 12, -13, -14, -15, -16]\n",
    "new_list=[]\n",
    "\n",
    "for iteration in range(len(list_one)):\n",
    "    if list_one[iteration]%2==0:\n",
    "        new_list.append(list_one[iteration])\n",
    "\n",
    "for values in range(len(list_two)):\n",
    "    if list_two[values]%2==0:\n",
    "        new_list.append(list_two[values])\n",
    "print(new_list)"
   ]
  },
  {
   "cell_type": "markdown",
   "metadata": {
    "id": "QaD4hLn92EKT"
   },
   "source": [
    "### Task 5\n",
    "\n",
    "Write a Python program that takes numbers as input into a list, removes multiple occurences of any number and then finally prints a list **without duplicate values**.\n",
    "\n",
    "*Hint: You may create a third list to store the results. You can use membership operators (in, not in) to make sure no duplicates are added.*\n",
    "\n",
    "===================================================================\n",
    "\n",
    "**Sample Input 1:**<br/>\n",
    "0, 0, 1, 2, 3, 4, 4, 5, 6, 6, 6, 7, 8, 9, 4, 4<br/>\n",
    "\n",
    "\n",
    "**Sample Output 1:**<br/>\n",
    "[0, 1, 2, 3, 4, 5, 6, 7, 8, 9]<br/>\n",
    "\n",
    "===================================================================\n",
    "\n",
    "**Sample Input 2:**<br/>\n",
    "7, 7, 7, 1, 0, 3, 3, 55, 9<br/>\n",
    "\n",
    "\n",
    "**Sample Output 2:**<br/>\n",
    "[7, 1, 0, 3, 55, 9]<br/>\n",
    "\n",
    "==================================================================="
   ]
  },
  {
   "cell_type": "code",
   "execution_count": 5,
   "metadata": {
    "id": "EUbQbz5hU1zP"
   },
   "outputs": [
    {
     "name": "stdout",
     "output_type": "stream",
     "text": [
      "Please enter the Number of items:7\n",
      "Please enter a Number:1\n",
      "Please enter a Number:1\n",
      "Please enter a Number:1\n",
      "Please enter a Number:3\n",
      "Please enter a Number:7\n",
      "Please enter a Number:5\n",
      "Please enter a Number:3\n",
      "[1, 3, 7, 5]\n"
     ]
    }
   ],
   "source": [
    "#to do\n",
    "\n",
    "quantity=int(input('Please enter the Number of items:'))\n",
    "input_list=[]\n",
    "new_list=[]\n",
    "\n",
    "for iteration in range(quantity):\n",
    "    num=int(input('Please enter a Number:'))\n",
    "    input_list.append(num)\n",
    "for values in range(len(input_list)):\n",
    "    if input_list[values] not in new_list:\n",
    "        new_list.append(input_list[values])\n",
    "print(new_list)"
   ]
  },
  {
   "cell_type": "markdown",
   "metadata": {
    "id": "wfcSytFVU1zU"
   },
   "source": [
    "### Task 6\n",
    "\n",
    "Write a Python program that reads 5 numbers into a list and prints the largest number and its location or index position on the list. <font color='red'>[You are not allowed to use the max(), sort(), sorted() function here]</font>\n",
    "\n",
    "**Hint:** Assume the first input to be the largest value initially and the largest value’s location to be 0.\n",
    "\n",
    "**Note:** You may need to be careful while printing the output. Depending on your code, you might need data conversion.\n",
    "\n",
    "===================================================================\n",
    "\n",
    "**Sample Input:**\\\n",
    " 7, 13, 2, 10, 6\n",
    "\n",
    "**Sample Output:**\\\n",
    "My list: [7, 13, 2, 10, 6]\\\n",
    "Largest number in the list is 13 which was found at index 1.\n",
    "\n",
    "==================================================================="
   ]
  },
  {
   "cell_type": "code",
   "execution_count": 6,
   "metadata": {
    "id": "kXbEh1t3U1zV"
   },
   "outputs": [
    {
     "name": "stdout",
     "output_type": "stream",
     "text": [
      "Please enter a Number:38\n",
      "Please enter a Number:-25\n",
      "Please enter a Number:10\n",
      "Please enter a Number:64\n",
      "Please enter a Number:13\n",
      "Largest number in the list is 64 which was found at index 3\n"
     ]
    }
   ],
   "source": [
    "#to do\n",
    "\n",
    "input_list=[]\n",
    "max_index=0\n",
    "\n",
    "for iteration in range(5):\n",
    "    num=int(input('Please enter a Number:'))\n",
    "    input_list.append(num)\n",
    "    if input_list[iteration]>input_list[max_index]:\n",
    "        max_index=iteration\n",
    "print('Largest number in the list is',input_list[max_index],'which was found at index',max_index)\n"
   ]
  },
  {
   "cell_type": "markdown",
   "metadata": {
    "id": "nwRZ3_0tC3fq"
   },
   "source": [
    "### Task 7\n",
    "\n",
    "\n",
    "Assume, you have been given two lists. [Your program should work for any two given lists; make changes to the lists below and check whether your program works correctly]\n",
    "\n",
    "list_one = [1, 2 , 2, 4, 5, 5, 7, 99, 200, 303, 70]\\\n",
    "list_two = [1, 1, 2, 3, 3, 3, 4, 5, 200, 500, -5]\n",
    "\n",
    "Write a Python program that creates a new list with all the **unique elements** of both the given lists. \n",
    "<font color='red'> **You need to make sure that there are no duplicates in the resulting list.**</font> Finally, print the updated list.\n",
    "\n",
    "**Hint:** You may create a third list to store the results. You can use membership operators (in, not in) to make sure no duplicates are added.\n",
    "\n",
    "===================================================================\n",
    "\n",
    "**Output for the above two lists**: \n",
    "[1, 2, 4, 5, 7, 99, 200, 303, 70, 3, 500, -5]\n",
    "\n",
    "===================================================================\n",
    "\n"
   ]
  },
  {
   "cell_type": "code",
   "execution_count": 1,
   "metadata": {
    "id": "LEnaTlyoMJdS"
   },
   "outputs": [
    {
     "name": "stdout",
     "output_type": "stream",
     "text": [
      "[1, 2, 4, 5, 7, 99, 200, 303, 70, 3, 500, -5]\n"
     ]
    }
   ],
   "source": [
    "#to do\n",
    "\n",
    "list_one = [1, 2 , 2, 4, 5, 5, 7, 99, 200, 303, 70]\n",
    "list_two = [1, 1, 2, 3, 3, 3, 4, 5, 200, 500, -5]\n",
    "list_one.extend(list_two)\n",
    "new_list=[]\n",
    "\n",
    "for iteration in range(len(list_one)):\n",
    "    if list_one[iteration] not in new_list:\n",
    "        new_list.append(list_one[iteration])\n",
    "print(new_list)\n"
   ]
  },
  {
   "cell_type": "markdown",
   "metadata": {
    "id": "bvF30RQlemBW"
   },
   "source": [
    "### Task 8\n",
    "\n",
    "Write a Python program that takes two lists and prints True if they have at least one common member.\n",
    "\n",
    "===================================================================\n",
    "\n",
    "**Sample Input 1:**\\\n",
    "List_one : [1, 4, 3, 2, 6]\\\n",
    "List_two : [5, 6, 9, 8, 7]\n",
    "\n",
    "**Sample Output 1:**\\\n",
    "True\n",
    "\n",
    "===================================================================\n",
    "\n",
    "**Sample Input 2:**\\\n",
    "List_one : [1, 4, 3, 2, 5]\\\n",
    "List_two : [8, 7, 6, 9]\n",
    "\n",
    "**Sample Output 2:**\\\n",
    "False\n",
    "\n",
    "===================================================================\n"
   ]
  },
  {
   "cell_type": "code",
   "execution_count": 4,
   "metadata": {
    "id": "yIlAlqlGe7IA"
   },
   "outputs": [
    {
     "name": "stdout",
     "output_type": "stream",
     "text": [
      "Please enter the number of items for List 1:4\n",
      "Please enter a Number for List 1:1\n",
      "Please enter a Number for List 1:2\n",
      "Please enter a Number for List 1:3\n",
      "Please enter a Number for List 1:4\n",
      "Please enter the number of items for List 2:4\n",
      "Please enter a Number for List 2:1\n",
      "Please enter a Number for List 2:2\n",
      "Please enter a Number for List 2:3\n",
      "Please enter a Number for List 2:4\n",
      "True\n"
     ]
    }
   ],
   "source": [
    "quantity1=int(input('Please enter the number of items for List 1:'))\n",
    "list_one=[]\n",
    "\n",
    "for iteration in range(quantity1):\n",
    "    num=int(input('Please enter a Number for List 1:'))\n",
    "    list_one.append(num)\n",
    "\n",
    "quantity2=int(input('Please enter the number of items for List 2:'))\n",
    "list_two=[]\n",
    "\n",
    "for iteration in range(quantity2):\n",
    "    values=int(input('Please enter a Number for List 2:'))\n",
    "    list_two.append(values)\n",
    "\n",
    "count=0\n",
    "for values_1 in range(len(list_one)):\n",
    "    if (count==1):\n",
    "        break\n",
    "    for values_2 in range(len(list_two)):\n",
    "        if list_one[values_1]==list_two[values_2]:\n",
    "            count=1\n",
    "            print('True')\n",
    "            break\n",
    "if count==0:\n",
    "    print('False')\n",
    "\n",
    "\n"
   ]
  },
  {
   "cell_type": "markdown",
   "metadata": {
    "id": "vyFt-Ra5erR4"
   },
   "source": [
    "### Task 9\n",
    "\n",
    "Write a Python program that reads 10 numbers into a list and prints the numbers of that specified list after removing **even numbers** from it.\n",
    "\n",
    "=========================================================================\n",
    "\n",
    "**Sample Input:**\n",
    "\n",
    "7,12,4,55,96,2,11,61,33,42\n",
    "\n",
    "**Sample Output:**\n",
    "\n",
    "[7, 55, 11, 61, 33]\n",
    "\n",
    "=========================================================================\n",
    "\n",
    "\n",
    "\n"
   ]
  },
  {
   "cell_type": "code",
   "execution_count": 2,
   "metadata": {
    "id": "1U3bswq9e9B3"
   },
   "outputs": [
    {
     "name": "stdout",
     "output_type": "stream",
     "text": [
      "Please enter a Number:5\n",
      "Please enter a Number:8\n",
      "Please enter a Number:3\n",
      "Please enter a Number:5\n",
      "Please enter a Number:2\n",
      "Please enter a Number:1\n",
      "Please enter a Number:19\n",
      "Please enter a Number:0\n",
      "Please enter a Number:-98\n",
      "Please enter a Number:4\n",
      "[5, 3, 5, 1, 19]\n"
     ]
    }
   ],
   "source": [
    "#to do\n",
    "\n",
    "new_list=[]\n",
    "for iteration in range(10):\n",
    "    num=int(input('Please enter a Number:'))#7,12,4,55,96,2,11,61,33,42\n",
    "    if num%2!=0:\n",
    "        new_list.append(num)\n",
    "print(new_list)\n"
   ]
  },
  {
   "cell_type": "markdown",
   "metadata": {
    "id": "G9jPuLWOetqd"
   },
   "source": [
    "### Task 10\n",
    "\n",
    "Write a Python program that removes all Empty strings from a given list and print the new list.\n",
    "\n",
    "=========================================================================\n",
    "\n",
    "**Sample Input:**\n",
    "\n",
    "[\"hey\", \"there\", \" \", \"what's\", \" \", \"up\", \" \", \"?\"]\n",
    "\n",
    "**Sample Output:**\n",
    "\n",
    "Original List:\n",
    "[\"hey\", \"there\", \" \", \"what's\", \" \", \"up\", \" \", \"?\"]\n",
    "\n",
    "Modified List:\n",
    "[\"hey\", \"there\", \"what's\", \"up\", \"?\"]\n",
    "\n",
    "==========================================================================\n",
    "\n",
    "\n"
   ]
  },
  {
   "cell_type": "code",
   "execution_count": 7,
   "metadata": {
    "id": "OlrhifBge-TA"
   },
   "outputs": [
    {
     "name": "stdout",
     "output_type": "stream",
     "text": [
      "['hey', 'there', \"what's\", 'up', '?']\n"
     ]
    }
   ],
   "source": [
    "#to do\n",
    "\n",
    "given_string=[\"hey\", \"there\", \"\", \"what's\", \"\", \"up\", \"\", \"?\"]\n",
    "new_list=[]\n",
    "\n",
    "for iteration in range(len(given_string)):\n",
    "    if (given_string[iteration]!=\"\"):\n",
    "        new_list.append(given_string[iteration])\n",
    "print(new_list)"
   ]
  },
  {
   "cell_type": "markdown",
   "metadata": {
    "id": "UjTy79X6ewce"
   },
   "source": [
    "## Task 11\n",
    "\n",
    "Write a Python program that replaces the last element of first list with second list.\n",
    "\n",
    "===================================================================\n",
    "\n",
    "**Sample Input 1:**\\\n",
    "List_one : [1, 4, 7, 5]\\\n",
    "List_two : [6, 1, 3, 9]\n",
    "\n",
    "**Sample Output 1:**\\\n",
    "[1, 4, 7, 6, 1, 3, 9]\n",
    "\n",
    "===================================================================\n",
    "\n",
    "**Sample Input 2:**\\\n",
    "List_one : [1, 3, 5, 7, 9, 10]\\\n",
    "List_two : [2, 4, 6, 8]\n",
    "\n",
    "**Sample Output 2:**\\\n",
    "[1, 3, 5, 7, 9, 2, 4, 6, 8]\n",
    "\n",
    "===================================================================\n",
    "\n",
    "\n",
    "\n"
   ]
  },
  {
   "cell_type": "code",
   "execution_count": 2,
   "metadata": {
    "id": "bBseKJuse_bX"
   },
   "outputs": [
    {
     "name": "stdout",
     "output_type": "stream",
     "text": [
      "Please enter the number of items for List 1:4\n",
      "Please enter a Number for List 1:1\n",
      "Please enter a Number for List 1:2\n",
      "Please enter a Number for List 1:3\n",
      "Please enter a Number for List 1:4\n",
      "Please enter the number of items for List 2:4\n",
      "Please enter a Number for List 2:1\n",
      "Please enter a Number for List 2:2\n",
      "Please enter a Number for List 2:3\n",
      "Please enter a Number for List 2:4\n",
      "[1, 2, 3, 1, 2, 3, 4]\n"
     ]
    }
   ],
   "source": [
    "new_list=[]\n",
    "quantity1=int(input('Please enter the number of items for List 1:'))\n",
    "list_one=[]\n",
    "\n",
    "for iteration in range(quantity1):\n",
    "    num=int(input('Please enter a Number for List 1:'))\n",
    "    list_one.append(num)\n",
    "\n",
    "quantity2=int(input('Please enter the number of items for List 2:'))\n",
    "list_two=[]\n",
    "\n",
    "for iteration in range(quantity2):\n",
    "    values=int(input('Please enter a Number for List 2:'))\n",
    "    list_two.append(values)\n",
    "\n",
    "new_list=list_one[0:-1]+list_two\n",
    "print(new_list)"
   ]
  },
  {
   "cell_type": "markdown",
   "metadata": {
    "id": "4pBLPmvre0jv"
   },
   "source": [
    "### Task 12\n",
    "\n",
    "Write a Python program that turns every item of a list into its square.\n",
    "\n",
    "===================================================================\n",
    "\n",
    "**Sample Input 1:**\\\n",
    "[1, 2, 3, 4, 5, 6, 7]\n",
    "\n",
    "**Sample Output 1:**\\\n",
    "[1, 4, 9, 16, 25, 36, 49]\n",
    "\n",
    "===================================================================\n",
    "\n",
    "**Sample Input 2:**\\\n",
    "[3, 5, 1, 6]\n",
    "\n",
    "**Sample Output 2:**\\\n",
    "[9, 25, 1, 36]\n",
    "\n",
    "\n",
    "===================================================================\n",
    "\n",
    "\n",
    "\n",
    "\n",
    "\n"
   ]
  },
  {
   "cell_type": "code",
   "execution_count": 1,
   "metadata": {
    "id": "5NDg0odDfANt"
   },
   "outputs": [
    {
     "name": "stdout",
     "output_type": "stream",
     "text": [
      "Please enter the number of items in the list:5\n",
      "Please enter a Number:3\n",
      "Please enter a Number:-9\n",
      "Please enter a Number:33\n",
      "Please enter a Number:-10\n",
      "Please enter a Number:1\n",
      "[9, 81, 1089, 100, 1]\n"
     ]
    }
   ],
   "source": [
    "#to do\n",
    "\n",
    "quantity=int(input('Please enter the number of items in the list:'))\n",
    "input_list=[]\n",
    "new_list=[]\n",
    "\n",
    "for iteration in range(quantity):\n",
    "    num=(int(input('Please enter a Number:')))\n",
    "    input_list.append(num)\n",
    "for values in range((len(input_list))):\n",
    "    squares=(input_list[values])**2\n",
    "    new_list.append(squares)\n",
    "print(new_list)\n"
   ]
  },
  {
   "cell_type": "markdown",
   "metadata": {
    "id": "WZXnxHTdGrMC"
   },
   "source": [
    "## Optional Tasks (13-15) [Ungraded]"
   ]
  },
  {
   "cell_type": "markdown",
   "metadata": {
    "id": "lvSiLaobU1zY"
   },
   "source": [
    "### Task 13\n",
    "\n",
    "Write a Python program that reads 5 numbers into a list and prints the smallest and largest number and their locations in the list. <font color='red'>[You are not allowed to use the max(), min(), sort(), sorted() functions here]</font>\n",
    "\n",
    "**Hint:** You may assume the first input to be the largest value initially and the largest value’s location to be 0. Similarly, you can assume the first input to be the smallest value initially and the smallest value’s location to be 0. \n",
    "\n",
    "**Note:** You may need to be careful while printing the output. Depending on your code, you might need data conversion.\n",
    "\n",
    "===================================================================\n",
    "\n",
    "**Sample Input:**\\\n",
    "7, 13, -5, 10, 6\n",
    "\n",
    "**Sample Output:**\\\n",
    "My list: [7, 13, -5, 10, 6]\\\n",
    "Smallest number in the list is -5 which was found at index 2\\\n",
    "Largest number in the list is 13 which was found at index 1\n",
    "\n",
    "==================================================================="
   ]
  },
  {
   "cell_type": "code",
   "execution_count": 2,
   "metadata": {
    "id": "yiS5TWSDU1zY"
   },
   "outputs": [
    {
     "name": "stdout",
     "output_type": "stream",
     "text": [
      "Please enter a Number:-9\n",
      "Please enter a Number:10\n",
      "Please enter a Number:8\n",
      "Please enter a Number:0\n",
      "Please enter a Number:-19\n",
      "Smallest number in the list is -19 which was found at index 4\n",
      "Largest number in the list is 10 which was found at index 1\n"
     ]
    }
   ],
   "source": [
    "#to do\n",
    "\n",
    "input_list=[]\n",
    "max_index=0\n",
    "min_index=0\n",
    "\n",
    "for iteration in range(5):\n",
    "    num=int(input('Please enter a Number:'))\n",
    "    input_list.append(num)\n",
    "    if input_list[iteration]>input_list[max_index]:\n",
    "        max_index=iteration\n",
    "    elif input_list[iteration]<input_list[min_index]:\n",
    "        min_index=iteration\n",
    "print('Smallest number in the list is',input_list[min_index],'which was found at index',min_index)\n",
    "print('Largest number in the list is',input_list[max_index],'which was found at index',max_index)"
   ]
  },
  {
   "cell_type": "markdown",
   "metadata": {
    "id": "rguDZ8SBCHD8"
   },
   "source": [
    "### Task 14\n",
    "Write a Python program that takes two lists as an input from the user. Then print a new list with the **common elements** of both the input lists. \n",
    "\n",
    "*Hint: You may need to create a third list to store the results. You can use membership operators (in, not in) to make sure similar elements are added.*\n",
    "\n",
    "===================================================================\n",
    "\n",
    "**Sample Input 1:**<br/>\n",
    "A, B, C, D\n",
    "\n",
    "\n",
    "C, E , F, B\n",
    "\n",
    "\n",
    "**Sample Output 1:**<br/>\n",
    "['C', 'B']\n",
    "\n",
    "===================================================================\n",
    "\n",
    "**Sample Input 2:**<br/>\n",
    "1, 3, A, H, P\n",
    "\n",
    "\n",
    "A, G, 1, P, O\n",
    "\n",
    "\n",
    "**Sample Output 2:**<br/>\n",
    "['1', 'A', 'P']\n",
    "\n",
    "===================================================================\n"
   ]
  },
  {
   "cell_type": "code",
   "execution_count": 5,
   "metadata": {
    "id": "3iueGiPPGG66"
   },
   "outputs": [
    {
     "name": "stdout",
     "output_type": "stream",
     "text": [
      "Please enter the number of items for List 1:4\n",
      "Please enter the characters for List 1:A\n",
      "Please enter the characters for List 1:B\n",
      "Please enter the characters for List 1:C\n",
      "Please enter the characters for List 1:D\n",
      "Please enter the number of items for List 2:4\n",
      "Please enter the elements for List 2:C\n",
      "Please enter the elements for List 2:E\n",
      "Please enter the elements for List 2:F\n",
      "Please enter the elements for List 2:B\n",
      "['C', 'B']\n"
     ]
    }
   ],
   "source": [
    "# to do\n",
    "\n",
    "quantity1=int(input('Please enter the number of items for List 1:'))\n",
    "list_one=[]\n",
    "\n",
    "for iteration in range(quantity1):\n",
    "    characters=input('Please enter the characters for List 1:')\n",
    "    list_one.append(characters)\n",
    "\n",
    "quantity2=int(input('Please enter the number of items for List 2:'))\n",
    "list_two=[]\n",
    "\n",
    "for iteration in range(quantity2):\n",
    "    elements=input('Please enter the elements for List 2:')\n",
    "    list_two.append(elements)\n",
    "\n",
    "new_list=[]\n",
    "for values in list_two:\n",
    "    if values in list_one:\n",
    "        new_list.append(values)\n",
    "print(new_list)\n"
   ]
  },
  {
   "cell_type": "markdown",
   "metadata": {
    "id": "tjcE5oitCM2s"
   },
   "source": [
    "### Task 15\n",
    "\n",
    "\n",
    "Write a Python program that reads 5 numbers into a list and prints the second largest number and its location or index position on the list. <font color='red'>[You are not allowed to use the max(), sort(), sorted() function here]</font>\n",
    "\n",
    "===================================================================\n",
    "\n",
    "**Sample Input:**\\\n",
    " 7, 13, 2, 10, 6\n",
    "\n",
    "**Sample Output:**\\\n",
    "My list: [7, 13, 2, 10, 6]\\\n",
    "Second largest number in the list is 10 which was found at index 3.\n",
    "\n",
    "==================================================================="
   ]
  },
  {
   "cell_type": "code",
   "execution_count": 6,
   "metadata": {
    "id": "b2TwkUqnGZU-"
   },
   "outputs": [
    {
     "name": "stdout",
     "output_type": "stream",
     "text": [
      "Please enter a Number:7\n",
      "Please enter a Number:13\n",
      "Please enter a Number:2\n",
      "Please enter a Number:10\n",
      "Please enter a Number:6\n",
      "My list: [7, 13, 2, 10, 6]\n",
      "Second largest number in the list is 10 which was found at index 3\n"
     ]
    }
   ],
   "source": [
    "# to do\n",
    "\n",
    "input_list=[]\n",
    "max_index=0\n",
    "max2_index=0\n",
    "\n",
    "for iteration in range(5):\n",
    "    num=int(input('Please enter a Number:'))\n",
    "    input_list.append(num)\n",
    "    if input_list[iteration]>input_list[max_index]:\n",
    "        max_index=iteration\n",
    "\n",
    "for values in range(len(input_list)):\n",
    "    if input_list[values]>input_list[max2_index] and input_list[values]!=input_list[max_index]:\n",
    "        max2_index=values\n",
    "print('My list:',input_list)\n",
    "print('Second largest number in the list is',input_list[max2_index],'which was found at index',max2_index)\n"
   ]
  }
 ],
 "metadata": {
  "colab": {
   "collapsed_sections": [],
   "name": "CSE110 Lab Assignment 4.ipynb",
   "provenance": []
  },
  "kernelspec": {
   "display_name": "Python 3",
   "language": "python",
   "name": "python3"
  },
  "language_info": {
   "codemirror_mode": {
    "name": "ipython",
    "version": 3
   },
   "file_extension": ".py",
   "mimetype": "text/x-python",
   "name": "python",
   "nbconvert_exporter": "python",
   "pygments_lexer": "ipython3",
   "version": "3.8.8"
  }
 },
 "nbformat": 4,
 "nbformat_minor": 1
}
